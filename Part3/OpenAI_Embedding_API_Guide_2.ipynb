{
 "cells": [
  {
   "cell_type": "markdown",
   "id": "862e8a4a-9301-4a2d-8782-9d8a1b8825dc",
   "metadata": {},
   "source": [
    "# OpenAI Embedding API로 문서 임베딩하고 검색하기"
   ]
  },
  {
   "cell_type": "code",
   "execution_count": 1,
   "id": "3c456dfb-90ca-4596-b91d-5a80db44f211",
   "metadata": {
    "scrolled": true
   },
   "outputs": [
    {
     "name": "stdout",
     "output_type": "stream",
     "text": [
      "Collecting tiktoken\n",
      "  Obtaining dependency information for tiktoken from https://files.pythonhosted.org/packages/2a/ad/d1c81988ca81bbf5faa79656b86fa9a9d08cd7f8c74b73775d29579a6da0/tiktoken-0.6.0-cp311-cp311-macosx_10_9_x86_64.whl.metadata\n",
      "  Downloading tiktoken-0.6.0-cp311-cp311-macosx_10_9_x86_64.whl.metadata (6.6 kB)\n",
      "Requirement already satisfied: regex>=2022.1.18 in /Users/wisysta/anaconda3/lib/python3.11/site-packages (from tiktoken) (2023.10.3)\n",
      "Requirement already satisfied: requests>=2.26.0 in /Users/wisysta/anaconda3/lib/python3.11/site-packages (from tiktoken) (2.31.0)\n",
      "Requirement already satisfied: charset-normalizer<4,>=2 in /Users/wisysta/anaconda3/lib/python3.11/site-packages (from requests>=2.26.0->tiktoken) (2.0.4)\n",
      "Requirement already satisfied: idna<4,>=2.5 in /Users/wisysta/anaconda3/lib/python3.11/site-packages (from requests>=2.26.0->tiktoken) (3.4)\n",
      "Requirement already satisfied: urllib3<3,>=1.21.1 in /Users/wisysta/anaconda3/lib/python3.11/site-packages (from requests>=2.26.0->tiktoken) (1.26.18)\n",
      "Requirement already satisfied: certifi>=2017.4.17 in /Users/wisysta/anaconda3/lib/python3.11/site-packages (from requests>=2.26.0->tiktoken) (2023.11.17)\n",
      "Downloading tiktoken-0.6.0-cp311-cp311-macosx_10_9_x86_64.whl (999 kB)\n",
      "\u001b[2K   \u001b[38;2;114;156;31m━━━━━━━━━━━━━━━━━━━━━━━━━━━━━━━━━━━━━━━━\u001b[0m \u001b[32m999.8/999.8 kB\u001b[0m \u001b[31m3.4 MB/s\u001b[0m eta \u001b[36m0:00:00\u001b[0m MB/s\u001b[0m eta \u001b[36m0:00:01\u001b[0m:01\u001b[0m\n",
      "\u001b[?25hInstalling collected packages: tiktoken\n",
      "Successfully installed tiktoken-0.6.0\n"
     ]
    }
   ],
   "source": [
    "!pip install tiktoken"
   ]
  },
  {
   "cell_type": "code",
   "execution_count": 2,
   "id": "8c681fa2-215a-45de-93fc-f33f954b6a43",
   "metadata": {},
   "outputs": [],
   "source": [
    "import math\n",
    "import os\n",
    "from glob import glob\n",
    "import tiktoken"
   ]
  },
  {
   "cell_type": "markdown",
   "id": "d35cd31a-22da-4aa9-b8a8-b00ef598494b",
   "metadata": {},
   "source": [
    "## Tiktoken?\n",
    "\n",
    "Tiktoken은 OpenAI에서 측정는 텍스트의 토큰 갯수를 확인 할 수 있는 방법입니다."
   ]
  },
  {
   "cell_type": "code",
   "execution_count": 3,
   "id": "0d58ceaa-e1fd-4b4b-8f46-a6b29260bab3",
   "metadata": {},
   "outputs": [],
   "source": [
    "encoding = tiktoken.get_encoding(\"cl100k_base\")\n",
    "num_tokens = len(encoding.encode(\"tiktoken is great!\"))"
   ]
  },
  {
   "cell_type": "code",
   "execution_count": 4,
   "id": "37161f6c-d821-49f1-bbc5-ae08d273f13d",
   "metadata": {},
   "outputs": [
    {
     "data": {
      "text/plain": [
       "6"
      ]
     },
     "execution_count": 4,
     "metadata": {},
     "output_type": "execute_result"
    }
   ],
   "source": [
    "num_tokens"
   ]
  },
  {
   "cell_type": "code",
   "execution_count": 5,
   "id": "1a1ddd2c-959c-4141-8742-027fe64ae335",
   "metadata": {},
   "outputs": [
    {
     "data": {
      "text/plain": [
       "[83, 1609, 5963, 374, 2294, 0]"
      ]
     },
     "execution_count": 5,
     "metadata": {},
     "output_type": "execute_result"
    }
   ],
   "source": [
    "encoding.encode(\"tiktoken is great!\")"
   ]
  },
  {
   "cell_type": "code",
   "execution_count": 6,
   "id": "d5dfce99-c932-4ba8-a451-b9b90917c915",
   "metadata": {},
   "outputs": [
    {
     "data": {
      "text/plain": [
       "'tiktoken is great!'"
      ]
     },
     "execution_count": 6,
     "metadata": {},
     "output_type": "execute_result"
    }
   ],
   "source": [
    "encoding.decode(encoding.encode(\"tiktoken is great!\"))"
   ]
  },
  {
   "cell_type": "markdown",
   "id": "146ed7df-2cb9-4496-b9f4-e109766fef3b",
   "metadata": {},
   "source": [
    "## 긴 문서 chunking 하기"
   ]
  },
  {
   "cell_type": "code",
   "execution_count": 8,
   "id": "e89df4ae-cfff-43ff-9a30-dd67b026fd18",
   "metadata": {},
   "outputs": [],
   "source": [
    "def long_text_into_chunks(text, n_slide=400, max_size=800): # n_slide=4000, max_size=8000, MAX_TOKENS = 8191\n",
    "    text_chunk_list = []\n",
    "\n",
    "    encoding = tiktoken.get_encoding(\"cl100k_base\")\n",
    "    token_ids = encoding.encode(text)\n",
    "\n",
    "    n_chunk = int(math.ceil(len(token_ids) / n_slide))\n",
    "\n",
    "    for chunk_i in range(n_chunk):\n",
    "        token_ids_chunk = token_ids[chunk_i * n_slide:chunk_i * n_slide + max_size]\n",
    "        curr_text_chunk = encoding.decode(token_ids_chunk)\n",
    "        text_chunk_list.append(curr_text_chunk)\n",
    "    return text_chunk_list"
   ]
  },
  {
   "cell_type": "code",
   "execution_count": 9,
   "id": "65933113-4996-448e-b51b-40b0819a1f59",
   "metadata": {},
   "outputs": [],
   "source": [
    "# get all rst files\n",
    "def get_all_doc_data(dir_path, doc_id_start=0):\n",
    "    md_path_list = glob(f\"{dir_path}/**/*.rst\", recursive=True)\n",
    "    doc_list = []\n",
    "    # make docs\n",
    "    for doc_id, md_path in enumerate(md_path_list, start=doc_id_start):\n",
    "        with open(md_path, \"rt\") as f:\n",
    "            text = f.read()\n",
    "        doc_list.append({\"docId\": str(doc_id), \"src\": md_path, \"text\": text})\n",
    "\n",
    "    psg_list = []\n",
    "\n",
    "    for doc in doc_list:\n",
    "        text_chunk_list = long_text_into_chunks(doc['text'])\n",
    "        for psg_id, text_chunk in enumerate(text_chunk_list):\n",
    "\n",
    "            psg_list.append(text_chunk)\n",
    "\n",
    "    return psg_list"
   ]
  },
  {
   "cell_type": "code",
   "execution_count": 10,
   "id": "9cd0f357-656c-4245-aa62-8daf6728ad11",
   "metadata": {},
   "outputs": [],
   "source": [
    "dir_path = \"./konlpy\"\n",
    "psg_list = get_all_doc_data(dir_path, doc_id_start=0)"
   ]
  },
  {
   "cell_type": "code",
   "execution_count": 12,
   "id": "816a1236-85a7-4aa3-ac14-bc1a08431068",
   "metadata": {},
   "outputs": [
    {
     "data": {
      "text/plain": [
       "56"
      ]
     },
     "execution_count": 12,
     "metadata": {},
     "output_type": "execute_result"
    }
   ],
   "source": [
    "len(psg_list)"
   ]
  },
  {
   "cell_type": "code",
   "execution_count": 16,
   "id": "2353fef5-d5ab-4c9d-98f5-f073a6d85dc9",
   "metadata": {},
   "outputs": [
    {
     "name": "stdout",
     "output_type": "stream",
     "text": [
      "명해주세요. 같은 상황을 겪고 있는 사람들이 많이 모일수록 문제는 빠르게 해결될 수 있습니다.\n",
      "3. 같은 이슈가 아직 제기되지 않았다면, \"New Issue\" 버튼을 눌러 이슈를 새로 생성해주시면 됩니다. 이슈를 새로 생성하시는 경우에는 사용하는 OS나 패키지 버젼 등을 같이 적어주시면 문제를 빠르게 해결하는데 도움이 됩니다.\n",
      "\n",
      "\n",
      "3. 이슈 제안/해결하기\n",
      "---------------------\n",
      "\n",
      "- `깃헙 이슈 <https://github.com/konlpy/konlpy/issues>`_ 에 코드를 개선할 수 있는 방법을 제안하거나, 제안된 이슈에 대해 토론/해결하실 수 있습니다.\n",
      "- 코드를 작성할 때는 다음에 유의해주세요.\n",
      "    1. 탭 대신 공백 4개 사용\n",
      "    2. 문서에서 특별히 언급되지 않은 사항은 일단 코드의 다른 부분들을 참고해서 작성 (+ 다른 분들의 편의를 위해 이 문서를 업데이트 해주세요)\n",
      "    3. 커밋 로그는 설명력 있게 작성\n",
      "- 코드 작성을 완료한 후 코드가 모든 테스트를 통과하는지 확인해주세요.\n",
      "    1. 자바 코드를 수정한 경우::\n",
      "\n",
      "        # Install `Apache Ant <http://ant.apache.org/manual/install.html>`_\n",
      "        make java\n",
      "\n",
      "    1. 코드를 단 한 줄이라도 수정한 모든 경우::\n",
      "\n",
      "        pip install -r requirements-dev.txt\n",
      "        pip3 install -r requirements-dev.txt\n",
      "        make build      # create tar.gz\n",
      "        make check      # check code styles\n",
      "        make testall    # run tests\n",
      "\n",
      "- PR을 보내기 전 다음을 확인해주세요.\n",
      "    1. PR을 보내면 해당 코드는 KoNLPy의 오픈소스 라이센스를 따름\n",
      "    1. PR를 보낸 후 코드의 일부를 변경하도록 요청될 경우, ``git commit --amend`` 로 커밋을 수정\n",
      "\n",
      "\n",
      "4. 문서 수정하기\n",
      "----------------\n",
      "\n",
      "- 오류 수정: 사소한 오타 등을 발견하여 수정을 요청하고 싶은 경우, 문서를 직접 수정하실 수 있습니다.\n",
      "- 내용 추가: 그 외에도 내용이 잘 이해되지 않는 부분이 있다거나, 설명이 부족한 부분에도 내용을 추가하실 수 있습니다. 특히, KoNLPy는 예제가 풍부한 문서를 지향합니다. 문서에 추가하면 좋을 법한 예제가 있으면 공유해주세요.\n",
      "- 번역: KoNLPy의 문서 영문과 한국어를 지원합니다. 표현이 어색하거나 번역이 덜 된 부분을 수정하실 수 있습니다.\n",
      "\n",
      "> Note: 기왕이면 기여하\n"
     ]
    }
   ],
   "source": [
    "print(psg_list[1])"
   ]
  },
  {
   "cell_type": "markdown",
   "id": "28241bee-5742-4563-93af-e9a746965101",
   "metadata": {},
   "source": [
    "## 문서 Embedding 하기"
   ]
  },
  {
   "cell_type": "code",
   "execution_count": 25,
   "id": "44dd3864-26d2-4f4e-9dab-1d9ed5bd538c",
   "metadata": {},
   "outputs": [
    {
     "ename": "OpenAIError",
     "evalue": "The api_key client option must be set either by passing api_key to the client or by setting the OPENAI_API_KEY environment variable",
     "output_type": "error",
     "traceback": [
      "\u001b[0;31m---------------------------------------------------------------------------\u001b[0m",
      "\u001b[0;31mOpenAIError\u001b[0m                               Traceback (most recent call last)",
      "Cell \u001b[0;32mIn[25], line 4\u001b[0m\n\u001b[1;32m      2\u001b[0m \u001b[38;5;28;01mfrom\u001b[39;00m \u001b[38;5;21;01mtenacity\u001b[39;00m \u001b[38;5;28;01mimport\u001b[39;00m retry, wait_random_exponential, stop_after_attempt\n\u001b[1;32m      3\u001b[0m \u001b[38;5;28;01mfrom\u001b[39;00m \u001b[38;5;21;01mopenai\u001b[39;00m \u001b[38;5;28;01mimport\u001b[39;00m OpenAI\n\u001b[0;32m----> 4\u001b[0m client \u001b[38;5;241m=\u001b[39m OpenAI()\n",
      "File \u001b[0;32m~/anaconda3/lib/python3.11/site-packages/openai/_client.py:98\u001b[0m, in \u001b[0;36mOpenAI.__init__\u001b[0;34m(self, api_key, organization, base_url, timeout, max_retries, default_headers, default_query, http_client, _strict_response_validation)\u001b[0m\n\u001b[1;32m     96\u001b[0m     api_key \u001b[38;5;241m=\u001b[39m os\u001b[38;5;241m.\u001b[39menviron\u001b[38;5;241m.\u001b[39mget(\u001b[38;5;124m\"\u001b[39m\u001b[38;5;124mOPENAI_API_KEY\u001b[39m\u001b[38;5;124m\"\u001b[39m)\n\u001b[1;32m     97\u001b[0m \u001b[38;5;28;01mif\u001b[39;00m api_key \u001b[38;5;129;01mis\u001b[39;00m \u001b[38;5;28;01mNone\u001b[39;00m:\n\u001b[0;32m---> 98\u001b[0m     \u001b[38;5;28;01mraise\u001b[39;00m OpenAIError(\n\u001b[1;32m     99\u001b[0m         \u001b[38;5;124m\"\u001b[39m\u001b[38;5;124mThe api_key client option must be set either by passing api_key to the client or by setting the OPENAI_API_KEY environment variable\u001b[39m\u001b[38;5;124m\"\u001b[39m\n\u001b[1;32m    100\u001b[0m     )\n\u001b[1;32m    101\u001b[0m \u001b[38;5;28mself\u001b[39m\u001b[38;5;241m.\u001b[39mapi_key \u001b[38;5;241m=\u001b[39m api_key\n\u001b[1;32m    103\u001b[0m \u001b[38;5;28;01mif\u001b[39;00m organization \u001b[38;5;129;01mis\u001b[39;00m \u001b[38;5;28;01mNone\u001b[39;00m:\n",
      "\u001b[0;31mOpenAIError\u001b[0m: The api_key client option must be set either by passing api_key to the client or by setting the OPENAI_API_KEY environment variable"
     ]
    }
   ],
   "source": [
    "import numpy as np\n",
    "from tenacity import retry, wait_random_exponential, stop_after_attempt\n",
    "from openai import OpenAI\n",
    "client = OpenAI()"
   ]
  },
  {
   "cell_type": "code",
   "execution_count": 17,
   "id": "94887994-5c51-44cf-bda5-f1f37070d3b9",
   "metadata": {},
   "outputs": [],
   "source": [
    "@retry(wait=wait_random_exponential(min=1, max=20), stop=stop_after_attempt(6))\n",
    "def encode(text):\n",
    "    response = client.embeddings.create(\n",
    "        input=text,\n",
    "        model=\"text-embedding-ada-002\")\n",
    "    return np.array(response.data[0].embedding, dtype=np.float32)"
   ]
  },
  {
   "cell_type": "code",
   "execution_count": 18,
   "id": "33af411e-9bd9-4b74-8ca5-6c67a95c0d24",
   "metadata": {},
   "outputs": [],
   "source": [
    "psg_embs = np.array([encode(psg) for psg in psg_list], dtype=np.float32)"
   ]
  },
  {
   "cell_type": "code",
   "execution_count": 19,
   "id": "ebe9cfca-8fe8-4b0b-aea8-1615a50a4816",
   "metadata": {},
   "outputs": [
    {
     "data": {
      "text/plain": [
       "array([[ 0.0096548 , -0.00663032,  0.0192404 , ...,  0.00558179,\n",
       "        -0.00019498, -0.03147674],\n",
       "       [ 0.00919929, -0.01486862,  0.01937467, ...,  0.01465468,\n",
       "        -0.00289149, -0.01357163],\n",
       "       [ 0.01713589, -0.00342784,  0.0237734 , ...,  0.02025631,\n",
       "        -0.00056649, -0.00144121],\n",
       "       ...,\n",
       "       [-0.01171179, -0.00286324,  0.01626278, ..., -0.00817453,\n",
       "        -0.00545687, -0.04026152],\n",
       "       [-0.02808339,  0.00442881,  0.01717625, ..., -0.00433307,\n",
       "         0.00235978, -0.02092071],\n",
       "       [-0.00584578,  0.01443437,  0.02386796, ...,  0.00840158,\n",
       "        -0.02129139, -0.02983841]], dtype=float32)"
      ]
     },
     "execution_count": 19,
     "metadata": {},
     "output_type": "execute_result"
    }
   ],
   "source": [
    "psg_embs"
   ]
  },
  {
   "cell_type": "code",
   "execution_count": 20,
   "id": "c608c738-4dea-4cf4-9e02-0b59963c65fa",
   "metadata": {},
   "outputs": [
    {
     "data": {
      "text/plain": [
       "(56, 1536)"
      ]
     },
     "execution_count": 20,
     "metadata": {},
     "output_type": "execute_result"
    }
   ],
   "source": [
    "psg_embs.shape"
   ]
  },
  {
   "cell_type": "markdown",
   "id": "a5a5bf46-8ab1-46ee-9eae-4303293dd4b8",
   "metadata": {},
   "source": [
    "## Faiss Index"
   ]
  },
  {
   "cell_type": "markdown",
   "id": "15e6695d-ca34-46d6-b3fa-5bbe396e685f",
   "metadata": {},
   "source": [
    "### Faiss Index 빌드하기"
   ]
  },
  {
   "cell_type": "code",
   "execution_count": 22,
   "id": "8a2e53c6-402e-48ea-a718-16ab023e6d2b",
   "metadata": {},
   "outputs": [
    {
     "name": "stdout",
     "output_type": "stream",
     "text": [
      "Requirement already satisfied: faiss-cpu in /Users/wisysta/anaconda3/lib/python3.11/site-packages (1.7.4)\n"
     ]
    }
   ],
   "source": [
    "!pip install faiss-cpu"
   ]
  },
  {
   "cell_type": "code",
   "execution_count": 23,
   "id": "62246ef6-ef9b-4830-8383-27e1e802a0ce",
   "metadata": {},
   "outputs": [],
   "source": [
    "import faiss"
   ]
  },
  {
   "cell_type": "code",
   "execution_count": 24,
   "id": "b1551a98-acf8-4f33-bc8f-4f6b3acb0977",
   "metadata": {},
   "outputs": [
    {
     "ename": "NameError",
     "evalue": "name 'np' is not defined",
     "output_type": "error",
     "traceback": [
      "\u001b[0;31m---------------------------------------------------------------------------\u001b[0m",
      "\u001b[0;31mNameError\u001b[0m                                 Traceback (most recent call last)",
      "Cell \u001b[0;32mIn[24], line 2\u001b[0m\n\u001b[1;32m      1\u001b[0m \u001b[38;5;66;03m# Calculate the L2 norms for each vector (row)\u001b[39;00m\n\u001b[0;32m----> 2\u001b[0m norms \u001b[38;5;241m=\u001b[39m np\u001b[38;5;241m.\u001b[39mlinalg\u001b[38;5;241m.\u001b[39mnorm(psg_embs, axis\u001b[38;5;241m=\u001b[39m\u001b[38;5;241m1\u001b[39m, keepdims\u001b[38;5;241m=\u001b[39m\u001b[38;5;28;01mTrue\u001b[39;00m)\n\u001b[1;32m      4\u001b[0m \u001b[38;5;66;03m# Divide by the norm to normalize\u001b[39;00m\n\u001b[1;32m      5\u001b[0m psg_embs_normed \u001b[38;5;241m=\u001b[39m psg_embs \u001b[38;5;241m/\u001b[39m norms\n",
      "\u001b[0;31mNameError\u001b[0m: name 'np' is not defined"
     ]
    }
   ],
   "source": [
    "# Calculate the L2 norms for each vector (row)\n",
    "norms = np.linalg.norm(psg_embs, axis=1, keepdims=True)\n",
    "\n",
    "# Divide by the norm to normalize\n",
    "psg_embs_normed = psg_embs / norms"
   ]
  },
  {
   "cell_type": "code",
   "execution_count": 24,
   "id": "d210d51c-d1b3-4940-aa1b-5bd13d85314e",
   "metadata": {},
   "outputs": [
    {
     "data": {
      "text/plain": [
       "(56, 1536)"
      ]
     },
     "execution_count": 24,
     "metadata": {},
     "output_type": "execute_result"
    }
   ],
   "source": [
    "psg_embs_normed.shape"
   ]
  },
  {
   "cell_type": "code",
   "execution_count": 25,
   "id": "54b0a30e-1325-4a0a-9acb-4943b72523fd",
   "metadata": {},
   "outputs": [],
   "source": [
    "index = faiss.IndexFlatIP(psg_embs_normed.shape[1])  # 1536"
   ]
  },
  {
   "cell_type": "code",
   "execution_count": 26,
   "id": "eaa1784c-0be5-457f-a0fb-456abef285a7",
   "metadata": {},
   "outputs": [],
   "source": [
    "index.add(psg_embs_normed)"
   ]
  },
  {
   "cell_type": "markdown",
   "id": "d6d833c0-5123-4094-a846-4d73491527ee",
   "metadata": {},
   "source": [
    "### Faiss Index에서 검색하기"
   ]
  },
  {
   "cell_type": "code",
   "execution_count": 34,
   "id": "81095948-b556-4a82-800b-c09a804b0f2e",
   "metadata": {},
   "outputs": [],
   "source": [
    "query = \"Standing on the shoulders of giants\"  # Ubuntu install, Standing on the shoulders of giants\n",
    "query_emb = encode(query)\n",
    "query_emb_normed =  query_emb / np.linalg.norm(query_emb)"
   ]
  },
  {
   "cell_type": "code",
   "execution_count": 35,
   "id": "fd0a7582-1c1d-4d8c-8f68-494f2cec9321",
   "metadata": {},
   "outputs": [
    {
     "data": {
      "text/plain": [
       "array([-0.00665539, -0.03375141, -0.00335975, ..., -0.00604948,\n",
       "       -0.01418277, -0.00806597], dtype=float32)"
      ]
     },
     "execution_count": 35,
     "metadata": {},
     "output_type": "execute_result"
    }
   ],
   "source": [
    "query_emb_normed"
   ]
  },
  {
   "cell_type": "code",
   "execution_count": 36,
   "id": "d35d892a-efb5-4db7-a925-688cb8a0c66a",
   "metadata": {},
   "outputs": [],
   "source": [
    "dist_list_list, psg_idx_list_list = index.search(query_emb.reshape(1, -1), k=3)  # (1, dim 1536)"
   ]
  },
  {
   "cell_type": "code",
   "execution_count": 37,
   "id": "5a4ceae5-cde5-4a50-923e-ebe956125638",
   "metadata": {},
   "outputs": [
    {
     "data": {
      "text/plain": [
       "array([[0.7544828, 0.7140408, 0.7096298]], dtype=float32)"
      ]
     },
     "execution_count": 37,
     "metadata": {},
     "output_type": "execute_result"
    }
   ],
   "source": [
    "dist_list_list"
   ]
  },
  {
   "cell_type": "code",
   "execution_count": 38,
   "id": "feed4923-45a6-4a30-8f6d-8819047dec12",
   "metadata": {},
   "outputs": [
    {
     "data": {
      "text/plain": [
       "array([[13, 36, 49]])"
      ]
     },
     "execution_count": 38,
     "metadata": {},
     "output_type": "execute_result"
    }
   ],
   "source": [
    "psg_idx_list_list"
   ]
  },
  {
   "cell_type": "code",
   "execution_count": 39,
   "id": "9b4f9f2f-404c-4b4d-8b4b-c97769752857",
   "metadata": {},
   "outputs": [],
   "source": [
    "dist_list, psg_idx_list = dist_list_list[0], psg_idx_list_list[0]"
   ]
  },
  {
   "cell_type": "code",
   "execution_count": 40,
   "id": "be09ea40-b237-412e-8271-372276519a0d",
   "metadata": {},
   "outputs": [
    {
     "name": "stdout",
     "output_type": "stream",
     "text": [
      "고는 실행환경, 에러메세지와함께 설명을 최대한상세히!^^'))\n",
      "    [(오류, NNG),\n",
      "     (보고, NNG),\n",
      "     (는, JX),\n",
      "     (실행, NNG),\n",
      "     (환경, NNG),\n",
      "     (,, SP),\n",
      "     (에러, NNG),\n",
      "     (메세지, NNG),\n",
      "     (와, JKM),\n",
      "     (함께, MAG),\n",
      "     (설명, NNG),\n",
      "     (을, JKO),\n",
      "     (최대한, NNG),\n",
      "     (상세히, MAG),\n",
      "     (!, SF),\n",
      "     (^^, EMO)]\n",
      "\n",
      "\n",
      "Standing on the shoulders of giants\n",
      "-----------------------------------\n",
      "\n",
      "Korean, the `13th most widely spoken language in the world <http://www.koreatimes.co.kr/www/news/nation/2014/05/116_157214.html>`_, is a beautiful, yet complex language.\n",
      "Myriad :ref:`engines` were built by numerous researchers, to computationally extract meaningful features from the labyrinthine text.\n",
      "\n",
      "KoNLPy is not just to create another, but to unify and build upon their shoulders, and see one step further.\n",
      "It is built particularly in the `Python (programming) language <http://python.org>`_, not only because of the language's simplicity and elegance, but also the powerful string processing modules and applicability to various tasks - including crawling, Web programming, and data analysis.\n",
      "\n",
      "The three main philosophies of this project are:\n",
      "\n",
      "- Keep it simple.\n",
      "- Make it easy. For humans.\n",
      "- :ref:`\"Democracy on the web works.\" <contribute>`\n",
      "\n",
      "Please `report <https://github.com/konlpy/konlpy/issues>`_ when you think any have gone stale.\n",
      "\n",
      "License\n",
      "-------\n",
      "\n",
      "KoNLPy is Open Source Software, and is released under the license below:\n",
      "\n",
      "- `GPL v3 or above <http://gnu.org/licenses/gpl.html>`_\n",
      "\n",
      "You are welcome to use the code under the terms of the license, however please acknowledge its use with a citation.\n",
      "\n",
      "- Eunjeong L. Park, Sungzoon Cho. \"`KoNLPy: Korean natural language processing in Python <http://dmlab.snu.ac.kr/~lucypark/docs/2014-10-10-hclt.pdf>`_\", Proceedings of the 26th Annual Conference on Human & Cognitive Language Technology, Chuncheon, Korea, Oct 2014.\n",
      "\n",
      "Here is a BibTeX entry.::\n",
      "\n",
      "    @inproceedings{park2014konlpy,\n",
      "      title={KoNLPy: Korean natural language processing in Python},\n",
      "      author={Park, Eunjeong L. and Cho, Sungzoon},\n",
      "      booktitle={Proceedings of the 26th Annual Conference on Human & Cognitive Language Technology},\n",
      "      address={Chuncheon, Korea},\n",
      "      month={October},\n",
      "      year={2014}\n",
      "    }\n",
      "\n",
      "\n",
      ".. _contribute:\n",
      "\n",
      "Contribute\n",
      "----------\n",
      "\n",
      "KoNLPy isn't perfect,\n",
      "but it will continuously evolve and you are invited to participate!\n",
      "\n",
      "Found a bug?\n",
      "Have a good idea for improving KoNLPy?\n",
      "Visit the `KoNLPy GitHub page <https://github.com/konlpy/konlpy>`_\n",
      "and `suggest an idea <https://github.com/konlpy/konlpy/issues>`_\n",
      "or `make a pull request <https://github.com/konlpy/konlpy/pulls>`_.\n",
      "\n",
      "You are also welcome to join\n",
      "our `gitter <https://gitter.im/konlpy/konlpy>`_\n",
      "and the `mailing list <https://groups.google.com/forum/#!forum/konlpy>`_.\n",
      "Gitter is more focused on\n",
      "******************************\n",
      " up to putting in some more time, try `The Hitchhiker's Guide <http://docs.python-guide.org/en/latest/>`_ or `Learn Python the hard way <http://learnpythonthehardway.org/book/>`_.\n",
      ".. [#] Many use `Sublime Text 2 <http://www.sublimetext.com/>`_ for Python programming. Some others use Vim and Terminal. But other than these, there are numerous great `text editors <http://tutorialzine.com/2012/07/battle-of-the-tools-which-is-the-best-code-editor/>`_ and `Python IDEs <http://pedrokroger.net/choosing-best-python-ide/>`_ out there, so take your pick!\n",
      "\n",
      "******************************\n",
      "한민국의\n",
      "    100 ① 대한민국은 민주공화국이다. ②대한민국의 주권은 국민에게\n",
      "    110 나온다. 제2조 ① 대한민국의 국민이 되는\n",
      "    126 의무를 진다. 제3조 대한민국의 영토는 한반도와\n",
      "    133 부속도서로 한다. 제4조 대한민국은 통일을 지향하며,\n",
      "    147 추진한다. 제5조 ① 대한민국은 국제평화의 유지에\n",
      "    787 군무원이 아닌 국민은 대한민국의 영역안에서는 중대한\n",
      "    1836 파견 또는 외국군대의 대한민국 영역안에서의 주류에\n",
      "    3620 경제 제119조 ① 대한민국의 경제질서는 개인과\n",
      "\n",
      "- zipf.png:\n",
      "    .. image:: zipf.png\n",
      "        :width: 100%\n",
      "\n",
      "******************************\n"
     ]
    }
   ],
   "source": [
    "for psg_idx in psg_idx_list:\n",
    "    print(psg_list[psg_idx])\n",
    "    print(\"*\"*30)"
   ]
  },
  {
   "cell_type": "code",
   "execution_count": null,
   "id": "4ff144fc-98aa-4dc9-9105-344a3bb8c177",
   "metadata": {},
   "outputs": [],
   "source": [
    "psg_idx_list_list"
   ]
  }
 ],
 "metadata": {
  "kernelspec": {
   "display_name": "Python 3 (ipykernel)",
   "language": "python",
   "name": "python3"
  },
  "language_info": {
   "codemirror_mode": {
    "name": "ipython",
    "version": 3
   },
   "file_extension": ".py",
   "mimetype": "text/x-python",
   "name": "python",
   "nbconvert_exporter": "python",
   "pygments_lexer": "ipython3",
   "version": "3.11.5"
  }
 },
 "nbformat": 4,
 "nbformat_minor": 5
}
